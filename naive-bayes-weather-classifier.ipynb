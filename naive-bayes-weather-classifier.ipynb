{
  "nbformat": 4,
  "nbformat_minor": 0,
  "metadata": {
    "colab": {
      "provenance": []
    },
    "kernelspec": {
      "name": "python3",
      "display_name": "Python 3"
    },
    "language_info": {
      "name": "python"
    }
  },
  "cells": [
    {
      "cell_type": "markdown",
      "source": [
        "# Cell 1: Importing Required Libraries\n",
        "# LAB 06 (Naive Bayes Classifier & Basian Network)\n",
        "Classifier Models: Naïve Bayes\n",
        "\n",
        "OBJECTIVE:\n",
        "\n",
        "To be able to understand the programatic implementation of Naive Bayes\n",
        "To be able to use Python Libraries for Classifier Models.\n",
        "To be able to use Classifier Models for supervised machine learning tasks of classification."
      ],
      "metadata": {
        "id": "_RWMKpFbE_EW"
      }
    },
    {
      "cell_type": "code",
      "execution_count": 7,
      "metadata": {
        "id": "ePk5AHUfEXtP"
      },
      "outputs": [],
      "source": [
        "import numpy as np\n",
        "import pandas as pd\n",
        "import matplotlib.pyplot as plt\n",
        "import math\n"
      ]
    },
    {
      "cell_type": "markdown",
      "source": [
        "# Cell 2: Pre-processing Function"
      ],
      "metadata": {
        "id": "XUy8CcyTFB8q"
      }
    },
    {
      "cell_type": "code",
      "source": [
        "def pre_processing(df):\n",
        "    \"\"\" Partitioning data into features and target \"\"\"\n",
        "    X = df.drop([df.columns[-1]], axis = 1)\n",
        "    y = df[df.columns[-1]]\n",
        "    return X, y\n"
      ],
      "metadata": {
        "id": "I4a0qXdyFEAc"
      },
      "execution_count": 8,
      "outputs": []
    },
    {
      "cell_type": "markdown",
      "source": [
        "# Cell 3: Accuracy Function"
      ],
      "metadata": {
        "id": "f4l8ShpRFFyb"
      }
    },
    {
      "cell_type": "code",
      "source": [
        "def accuracy_score(y_true, y_pred):\n",
        "    \"\"\" Accuracy = correct predictions / total predictions \"\"\"\n",
        "    return round(float(sum(y_pred == y_true))/float(len(y_true)) * 100 ,2)\n"
      ],
      "metadata": {
        "id": "yDWe1lg8FIIj"
      },
      "execution_count": 9,
      "outputs": []
    },
    {
      "cell_type": "markdown",
      "source": [
        "# Cell 4: Naive Bayes Classifier"
      ],
      "metadata": {
        "id": "SbgGSfrnFJns"
      }
    },
    {
      "cell_type": "code",
      "source": [
        "class NaiveBayes:\n",
        "    \"\"\"\n",
        "    Bayes Theorem:\n",
        "        P(c|x) = (P(x|c) * P(c)) / P(x)\n",
        "    \"\"\"\n",
        "\n",
        "    def __init__(self):\n",
        "        self.features = list\n",
        "        self.likelihoods = {}\n",
        "        self.class_priors = {}\n",
        "        self.pred_priors = {}\n",
        "        self.X_train = np.array\n",
        "        self.y_train = np.array\n",
        "        self.train_size = int\n",
        "        self.num_feats = int\n",
        "\n",
        "    def fit(self, X, y):\n",
        "        self.features = list(X.columns)\n",
        "        self.X_train = X\n",
        "        self.y_train = y\n",
        "        self.train_size = X.shape[0]\n",
        "        self.num_feats = X.shape[1]\n",
        "\n",
        "        for feature in self.features:\n",
        "            self.likelihoods[feature] = {}\n",
        "            self.pred_priors[feature] = {}\n",
        "\n",
        "            for feat_val in np.unique(self.X_train[feature]):\n",
        "                self.pred_priors[feature].update({feat_val: 0})\n",
        "\n",
        "                for outcome in np.unique(self.y_train):\n",
        "                    self.likelihoods[feature].update({feat_val+'_'+outcome:0})\n",
        "                    self.class_priors.update({outcome: 0})\n",
        "\n",
        "        self._calc_class_prior()\n",
        "        self._calc_likelihoods()\n",
        "        self._calc_predictor_prior()\n",
        "\n",
        "    def _calc_class_prior(self):\n",
        "        \"\"\" P(c) - Prior Class Probability \"\"\"\n",
        "        class_counts = self.y_train.value_counts().to_dict()\n",
        "        for outcome, count in class_counts.items():\n",
        "            self.class_priors[outcome] = count / self.train_size\n",
        "\n",
        "    def _calc_likelihoods(self):\n",
        "        \"\"\" P(x|c) - Likelihood \"\"\"\n",
        "        for feature in self.features:\n",
        "            for feat_val in np.unique(self.X_train[feature]):\n",
        "                for outcome in np.unique(self.y_train):\n",
        "                    # count of feature value given class\n",
        "                    count_feat_val_class = len(self.X_train[(self.X_train[feature] == feat_val) & (self.y_train == outcome)])\n",
        "                    # count of class\n",
        "                    count_class = len(self.y_train[self.y_train == outcome])\n",
        "\n",
        "                    # likelihood with Laplace smoothing\n",
        "                    self.likelihoods[feature][feat_val + '_' + outcome] = (count_feat_val_class + 1) / (count_class + len(np.unique(self.X_train[feature])))\n",
        "\n",
        "    def _calc_predictor_prior(self):\n",
        "        \"\"\" P(x) - Evidence \"\"\"\n",
        "        for feature in self.features:\n",
        "            feat_vals = self.X_train[feature].value_counts().to_dict()\n",
        "            for feat_val, count in feat_vals.items():\n",
        "                self.pred_priors[feature][feat_val] = count/self.train_size\n",
        "\n",
        "    def predict(self, X):\n",
        "        \"\"\" Calculates Posterior probability P(c|x) \"\"\"\n",
        "        results = []\n",
        "        X = np.array(X)\n",
        "\n",
        "        for query in X:\n",
        "            probs_outcome = {}\n",
        "            for outcome in np.unique(self.y_train):\n",
        "                prior = self.class_priors[outcome]\n",
        "                likelihood = 1\n",
        "                evidence = 1\n",
        "\n",
        "                for feat, feat_val in zip(self.features, query):\n",
        "                    likelihood *= self.likelihoods[feat][feat_val + '_' + outcome]\n",
        "                    evidence *= self.pred_priors[feat][feat_val]\n",
        "\n",
        "                posterior = (likelihood * prior) / (evidence)\n",
        "                probs_outcome[outcome] = posterior\n",
        "\n",
        "            result = max(probs_outcome, key = lambda x: probs_outcome[x])\n",
        "            results.append(result)\n",
        "\n",
        "        return np.array(results)\n"
      ],
      "metadata": {
        "id": "Ou2usm5PFNxz"
      },
      "execution_count": 10,
      "outputs": []
    },
    {
      "cell_type": "markdown",
      "source": [
        "# Cell 5: Main Code Block – Load Dataset, Train Model, Test Queries"
      ],
      "metadata": {
        "id": "Iv8LSX2EFTeL"
      }
    },
    {
      "cell_type": "code",
      "source": [
        "df = pd.read_csv(\"weather.txt\", delimiter=\"\\t\")\n",
        "\n",
        "# Preprocess\n",
        "X, y = pre_processing(df)\n",
        "\n",
        "# Train model\n",
        "nb_clf = NaiveBayes()\n",
        "nb_clf.fit(X, y)\n",
        "\n",
        "# Evaluate\n",
        "print(\"Train Accuracy: {}%\".format(accuracy_score(y, nb_clf.predict(X))))\n",
        "\n",
        "# Query 1\n",
        "query = np.array([['Rainy','Mild', 'Normal', 't']])\n",
        "print(\"Query 1:- {} ---> {}\".format(query, nb_clf.predict(query)))\n",
        "\n",
        "# Query 2\n",
        "query = np.array([['Overcast','Cool', 'Normal', 't']])\n",
        "print(\"Query 2:- {} ---> {}\".format(query, nb_clf.predict(query)))\n",
        "\n",
        "# Query 3\n",
        "query = np.array([['Sunny','Hot', 'High', 't']])\n",
        "print(\"Query 3:- {} ---> {}\".format(query, nb_clf.predict(query)))\n"
      ],
      "metadata": {
        "colab": {
          "base_uri": "https://localhost:8080/"
        },
        "id": "1MVkUXiiFUnT",
        "outputId": "d43fc6de-6dee-4014-f844-18f5c11ba4bc"
      },
      "execution_count": 11,
      "outputs": [
        {
          "output_type": "stream",
          "name": "stdout",
          "text": [
            "Train Accuracy: 92.86%\n",
            "Query 1:- [['Rainy' 'Mild' 'Normal' 't']] ---> ['yes']\n",
            "Query 2:- [['Overcast' 'Cool' 'Normal' 't']] ---> ['yes']\n",
            "Query 3:- [['Sunny' 'Hot' 'High' 't']] ---> ['no']\n"
          ]
        }
      ]
    }
  ]
}